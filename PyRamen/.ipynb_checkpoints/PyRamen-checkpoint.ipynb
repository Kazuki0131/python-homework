{
 "cells": [
  {
   "cell_type": "code",
   "execution_count": 1,
   "id": "b95a2b5c-fc8c-4bbe-a78c-5f849a2ef63b",
   "metadata": {},
   "outputs": [],
   "source": [
    "# import the csv and path modules\n",
    "import csv\n",
    "from pathlib import Path"
   ]
  },
  {
   "cell_type": "code",
   "execution_count": 2,
   "id": "862ea30b-271d-4c9b-8b89-d6571738b600",
   "metadata": {},
   "outputs": [],
   "source": [
    "# Set file paths for menu_data.csv and sales_data.csv\n",
    "menu_filepath = Path('Resources/menu_data.csv')\n",
    "sales_filepath = Path('Resources/sales_data.csv')"
   ]
  },
  {
   "cell_type": "code",
   "execution_count": 3,
   "id": "3dfd95ef-c6fe-485f-867e-3e120bb687f3",
   "metadata": {},
   "outputs": [],
   "source": [
    "# Initialize list objects to hold our menu and sales data\n",
    "menu = []\n",
    "sales = []"
   ]
  },
  {
   "cell_type": "code",
   "execution_count": 4,
   "id": "13899849-1f8a-434a-b32e-b59f95eed13b",
   "metadata": {},
   "outputs": [],
   "source": [
    "# Read in the menu data into the menu list\n",
    "with open(menu_filepath) as csvfile:\n",
    "    menu_csv_data = csv.reader(csvfile, delimiter=',')\n",
    "    \n",
    "    next(menu_csv_data)\n",
    "    \n",
    "    for line in menu_csv_data:\n",
    "        menu.append(line)"
   ]
  },
  {
   "cell_type": "code",
   "execution_count": 5,
   "id": "4a8f9f39-f03e-42f7-8f2f-39a296d0d38c",
   "metadata": {},
   "outputs": [],
   "source": [
    "# Read in the sales data into the sales list\n",
    "with open(sales_filepath) as csvfile:\n",
    "    sales_csv_data = csv.reader(csvfile, delimiter=',')\n",
    "    \n",
    "    next(sales_csv_data)\n",
    "    \n",
    "    for line in sales_csv_data:\n",
    "        sales.append(line)"
   ]
  },
  {
   "cell_type": "code",
   "execution_count": 6,
   "id": "b1d2838a-6a67-451c-b498-9967cf3ff44d",
   "metadata": {},
   "outputs": [],
   "source": [
    "# Initialize dict object to hold our key-value pairs of items and metrics\n",
    "report = {}\n",
    "# Initialize a row counter variable\n",
    "row_count = 0"
   ]
  },
  {
   "cell_type": "code",
   "execution_count": 7,
   "id": "5db1c8e8-ae5b-4883-a876-08d5ea7f96df",
   "metadata": {},
   "outputs": [
    {
     "name": "stdout",
     "output_type": "stream",
     "text": [
      "total number of records in sales: 74124\n"
     ]
    }
   ],
   "source": [
    "# Loop over every row in the sales list object\n",
    "for row in sales:\n",
    "    \n",
    "    # store the Quantity and Sales item data in Quantity and Sales_Item variables\n",
    "    Quantity = int(row[3])\n",
    "    Sales_Item = row[4]\n",
    "    \n",
    "\n",
    "    # If the item value not in the report, add it as a new entry with initialized metrics\n",
    "    if not Sales_Item in report.keys():\n",
    "        report[Sales_Item] = {\"01-count\": 0,\"02-revenue\": 0,\"03-cogs\": 0,\"04-profit\": 0,}\n",
    "\n",
    "        \n",
    "    # For every row in our sales data, loop over the menu records to determine a match\n",
    "    for menu_row in menu:\n",
    "        \n",
    "        # store menu item, price, and cost in the Menu_Item, Price, and Cost variables\n",
    "        Menu_Item = menu_row[0]\n",
    "        Price = float(menu_row[3])\n",
    "        Cost = float(menu_row[4])\n",
    "            \n",
    "\n",
    "        # Calculate profit of each item in the menu data\n",
    "        Profit = Price - Cost\n",
    "\n",
    "        # If the item value in our sales data is equal to the any of the items in the menu, then begin tracking metrics for that item\n",
    "        if Sales_Item == Menu_Item:\n",
    "\n",
    "            # Cumulatively add up the metrics for each item key\n",
    "            report[Sales_Item][\"01-count\"] += Quantity\n",
    "            report[Sales_Item][\"02-revenue\"] += Price * Quantity\n",
    "            report[Sales_Item][\"03-cogs\"] += Cost * Quantity\n",
    "            report[Sales_Item][\"04-profit\"] += Profit * Quantity\n",
    "\n",
    "            break\n",
    "\n",
    "\n",
    "    # Increment the row counter by 1\n",
    "    row_count += 1\n",
    "\n",
    "# Print total number of records in sales data\n",
    "print(\"total number of records in sales: \" + str(row_count))"
   ]
  },
  {
   "cell_type": "code",
   "execution_count": 8,
   "id": "b8841ca2-126b-462c-a5dc-64ae7edb8389",
   "metadata": {},
   "outputs": [
    {
     "data": {
      "text/plain": [
       "{'spicy miso ramen': {'01-count': 9238,\n",
       "  '02-revenue': 110856.0,\n",
       "  '03-cogs': 46190.0,\n",
       "  '04-profit': 64666.0},\n",
       " 'tori paitan ramen': {'01-count': 9156,\n",
       "  '02-revenue': 119028.0,\n",
       "  '03-cogs': 54936.0,\n",
       "  '04-profit': 64092.0},\n",
       " 'truffle butter ramen': {'01-count': 8982,\n",
       "  '02-revenue': 125748.0,\n",
       "  '03-cogs': 62874.0,\n",
       "  '04-profit': 62874.0},\n",
       " 'tonkotsu ramen': {'01-count': 9288,\n",
       "  '02-revenue': 120744.0,\n",
       "  '03-cogs': 55728.0,\n",
       "  '04-profit': 65016.0},\n",
       " 'vegetarian spicy miso': {'01-count': 9216,\n",
       "  '02-revenue': 110592.0,\n",
       "  '03-cogs': 46080.0,\n",
       "  '04-profit': 64512.0},\n",
       " 'shio ramen': {'01-count': 9180,\n",
       "  '02-revenue': 100980.0,\n",
       "  '03-cogs': 45900.0,\n",
       "  '04-profit': 55080.0},\n",
       " 'miso crab ramen': {'01-count': 8890,\n",
       "  '02-revenue': 106680.0,\n",
       "  '03-cogs': 53340.0,\n",
       "  '04-profit': 53340.0},\n",
       " 'nagomi shoyu': {'01-count': 9132,\n",
       "  '02-revenue': 100452.0,\n",
       "  '03-cogs': 45660.0,\n",
       "  '04-profit': 54792.0},\n",
       " 'soft-shell miso crab ramen': {'01-count': 9130,\n",
       "  '02-revenue': 127820.0,\n",
       "  '03-cogs': 63910.0,\n",
       "  '04-profit': 63910.0},\n",
       " 'burnt garlic tonkotsu ramen': {'01-count': 9070,\n",
       "  '02-revenue': 126980.0,\n",
       "  '03-cogs': 54420.0,\n",
       "  '04-profit': 72560.0},\n",
       " 'vegetarian curry + king trumpet mushroom ramen': {'01-count': 8824,\n",
       "  '02-revenue': 114712.0,\n",
       "  '03-cogs': 61768.0,\n",
       "  '04-profit': 52944.0}}"
      ]
     },
     "execution_count": 8,
     "metadata": {},
     "output_type": "execute_result"
    }
   ],
   "source": [
    "#show the data in the report dictionary\n",
    "report"
   ]
  },
  {
   "cell_type": "code",
   "execution_count": 9,
   "id": "41ba5dca-7a02-4a20-aa2c-f3b23dad85e8",
   "metadata": {},
   "outputs": [],
   "source": [
    "#set the path of financial_analysis.txt to store the report\n",
    "output_path = Path(\"financial_analysis.txt\")"
   ]
  },
  {
   "cell_type": "code",
   "execution_count": 10,
   "id": "3a9ff94c-0024-4a87-aa82-d203de7ec921",
   "metadata": {},
   "outputs": [],
   "source": [
    "#Write out the report to the financial_analysis.txt file\n",
    "with open(output_path, 'w') as file:\n",
    "    for key, item in report.items():\n",
    "        file.write(key + \" \")\n",
    "        file.write(str(item))\n",
    "        file.write(\"\\n\")"
   ]
  },
  {
   "cell_type": "code",
   "execution_count": null,
   "id": "e216a890-64d2-4343-a6ff-a646906fe94d",
   "metadata": {},
   "outputs": [],
   "source": []
  }
 ],
 "metadata": {
  "kernelspec": {
   "display_name": "Python 3",
   "language": "python",
   "name": "python3"
  },
  "language_info": {
   "codemirror_mode": {
    "name": "ipython",
    "version": 3
   },
   "file_extension": ".py",
   "mimetype": "text/x-python",
   "name": "python",
   "nbconvert_exporter": "python",
   "pygments_lexer": "ipython3",
   "version": "3.8.8"
  }
 },
 "nbformat": 4,
 "nbformat_minor": 5
}
