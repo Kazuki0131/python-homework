{
 "cells": [
  {
   "cell_type": "code",
   "execution_count": 5,
   "id": "024e610c-a5fc-44db-a18e-ed0e508302bd",
   "metadata": {},
   "outputs": [],
   "source": [
    "import csv"
   ]
  },
  {
   "cell_type": "code",
   "execution_count": 6,
   "id": "33db16e6-fe67-4733-bfec-a13a46780822",
   "metadata": {},
   "outputs": [
    {
     "name": "stdout",
     "output_type": "stream",
     "text": [
      "<_csv.reader object at 0x7fec600095d0>\n"
     ]
    }
   ],
   "source": [
    "filename = \"Resources/budget_data.csv\"\n",
    "\n",
    "bank_data = []\n",
    "count = 0\n",
    "total_month = 0\n",
    "total = 0\n",
    "previous_amount = 0\n",
    "change = []\n",
    "#avrange_change = 0\n",
    "#greatest_increase = 0\n",
    "#greatest_decrease = 0\n",
    "\n",
    "with open(filename) as f:\n",
    "    csv_data = csv.reader(f, delimiter=',')\n",
    "    print(csv_data)\n",
    "    \n",
    "    for line in csv_data:\n",
    "        \n",
    "        if count == 0:\n",
    "            count += 1\n",
    "            continue\n",
    "        elif count == 1:\n",
    "            line[1] = int(line[1])\n",
    "            previous_amount = line[1]\n",
    "        else:\n",
    "            line[1] = int(line[1])\n",
    "            change.append(line[1] - previous_amount)\n",
    "            previous_amount = line[1]\n",
    "            \n",
    "        count += 1\n",
    "        total += line[1]\n",
    "        bank_data.append(line)"
   ]
  },
  {
   "cell_type": "code",
   "execution_count": 7,
   "id": "68f1280a-ebac-499c-9932-d8461126832e",
   "metadata": {},
   "outputs": [],
   "source": [
    "total_months = len(bank_data)\n",
    "average_change = round(sum(change)/len(change),2)\n",
    "greatest_increase = max(change)\n",
    "date_of_greatest_increase = bank_data[change.index(greatest_increase)+1][0]\n",
    "greatest_decrease = min(change)\n",
    "date_of_greatest_decrease = bank_data[change.index(greatest_decrease)+1][0]"
   ]
  },
  {
   "cell_type": "code",
   "execution_count": 8,
   "id": "c1b94c68-a56b-489a-af79-8ace7d03687f",
   "metadata": {},
   "outputs": [
    {
     "name": "stdout",
     "output_type": "stream",
     "text": [
      "Financial Analysis\n",
      "------------------------------\n",
      "Total Months: 86\n",
      "Total: $38382578\n",
      "Average Cahnge: $-2315.12\n",
      "Greatest Increase in Profits: Feb-2012 ($1926159)\n",
      "Greatest Decrease in Profits: Sep-2013 ($-2196167)\n"
     ]
    }
   ],
   "source": [
    "print(\"Financial Analysis\")\n",
    "print(\"------------------------------\")\n",
    "print(\"Total Months: \" + str(total_months))\n",
    "print(\"Total: $\" + str(total))\n",
    "print(\"Average Cahnge: $\" + str(average_change))\n",
    "print(\"Greatest Increase in Profits: \" + date_of_greatest_increase + \" ($\" + str(greatest_increase) + \")\")\n",
    "print(\"Greatest Decrease in Profits: \" + date_of_greatest_decrease + \" ($\" + str(greatest_decrease) + \")\")"
   ]
  },
  {
   "cell_type": "code",
   "execution_count": null,
   "id": "dd2f7869-ca94-4521-acba-d146ead318f1",
   "metadata": {},
   "outputs": [],
   "source": []
  }
 ],
 "metadata": {
  "kernelspec": {
   "display_name": "Python 3 (ipykernel)",
   "language": "python",
   "name": "python3"
  },
  "language_info": {
   "codemirror_mode": {
    "name": "ipython",
    "version": 3
   },
   "file_extension": ".py",
   "mimetype": "text/x-python",
   "name": "python",
   "nbconvert_exporter": "python",
   "pygments_lexer": "ipython3",
   "version": "3.7.11"
  }
 },
 "nbformat": 4,
 "nbformat_minor": 5
}
